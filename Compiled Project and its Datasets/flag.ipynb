{
 "cells": [
  {
   "cell_type": "code",
   "execution_count": null,
   "id": "0e9220b0",
   "metadata": {},
   "outputs": [
    {
     "name": "stdout",
     "output_type": "stream",
     "text": [
      "pygame 2.5.0 (SDL 2.28.0, Python 3.9.12)\n",
      "Hello from the pygame community. https://www.pygame.org/contribute.html\n"
     ]
    },
    {
     "data": {
      "image/png": "[encoded data removed]",
      "text/plain": [
       "<Figure size 432x288 with 1 Axes>"
      ]
     },
     "metadata": {
      "needs_background": "light"
     },
     "output_type": "display_data"
    }
   ],
   "source": [
    "import numpy as np\n",
    "import matplotlib.pyplot as plt\n",
    "import pygame\n",
    "\n",
    "def draw_indian_flag():\n",
    "    # Dimensions of the flag\n",
    "    width = 900\n",
    "    height = 600\n",
    "\n",
    "    # Create an array of zeros with the dimensions of the flag\n",
    "    flag = np.zeros((height, width, 3), dtype=np.uint8)\n",
    "\n",
    "    # Set the saffron color band\n",
    "    saffron_width = int(height / 3)\n",
    "    flag[:saffron_width, :, :] = (255, 153, 51)\n",
    "\n",
    "    # Set the white color band\n",
    "    white_width = int(height / 3)\n",
    "    flag[saffron_width:saffron_width+white_width, :, :] = (255, 255, 255)\n",
    "\n",
    "    # Set the green color band\n",
    "    green_width = int(height / 3)\n",
    "    flag[saffron_width+white_width:, :, :] = (19, 136, 8)\n",
    "\n",
    "    # Draw the Ashoka Chakra (Naval Ensign of India) at the center of the flag\n",
    "    chakra_radius = min(height, width) // 10\n",
    "    center_x = width // 2\n",
    "    center_y = height // 2\n",
    "    for i in range(center_x - chakra_radius, center_x + chakra_radius):\n",
    "        for j in range(center_y - chakra_radius, center_y + chakra_radius):\n",
    "            distance = np.sqrt((i - center_x) ** 2 + (j - center_y) ** 2)\n",
    "            if chakra_radius - 1 < distance < chakra_radius:\n",
    "                flag[j, i, :] = (0, 128, 255)\n",
    "            elif distance <= chakra_radius - 1:\n",
    "                flag[j, i, :] = (255, 255, 255)\n",
    "\n",
    "    # Display the flag using matplotlib\n",
    "    plt.imshow(flag)\n",
    "    plt.axis('off')\n",
    "    plt.show()\n",
    "\n",
    "    # Load and play the national anthem\n",
    "    pygame.mixer.init()\n",
    "    pygame.mixer.music.load('national_anthem.mp3')\n",
    "    pygame.mixer.music.play()\n",
    "\n",
    "    # Wait for the anthem to finish playing\n",
    "    while pygame.mixer.music.get_busy():\n",
    "        continue\n",
    "\n",
    "# Call the function to draw the Indian national flag and play the anthem\n",
    "draw_indian_flag()\n"
   ]
  },
  {
   "cell_type": "code",
   "execution_count": 3,
   "id": "6dcd5fc9",
   "metadata": {},
   "outputs": [
    {
     "name": "stdout",
     "output_type": "stream",
     "text": [
      "Collecting pygameNote: you may need to restart the kernel to use updated packages.\n",
      "  Downloading pygame-2.5.0-cp39-cp39-win_amd64.whl (10.5 MB)\n",
      "\n",
      "Installing collected packages: pygame\n",
      "Successfully installed pygame-2.5.0\n"
     ]
    }
   ],
   "source": [
    "pip install pygame"
   ]
  },
  {
   "cell_type": "code",
   "execution_count": null,
   "id": "e34af91b",
   "metadata": {},
   "outputs": [],
   "source": []
  }
 ],
 "metadata": {
  "kernelspec": {
   "display_name": "Python 3 (ipykernel)",
   "language": "python",
   "name": "python3"
  },
  "language_info": {
   "codemirror_mode": {
    "name": "ipython",
    "version": 3
   },
   "file_extension": ".py",
   "mimetype": "text/x-python",
   "name": "python",
   "nbconvert_exporter": "python",
   "pygments_lexer": "ipython3",
   "version": "3.9.12"
  }
 },
 "nbformat": 4,
 "nbformat_minor": 5
}
