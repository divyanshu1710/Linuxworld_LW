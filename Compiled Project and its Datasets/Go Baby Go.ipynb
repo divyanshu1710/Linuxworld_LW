{
 "cells": [
  {
   "cell_type": "code",
   "execution_count": null,
   "id": "ba547a0d",
   "metadata": {},
   "outputs": [
    {
     "name": "stdout",
     "output_type": "stream",
     "text": [
      "Listening...\n",
      "You said: Jay Mata Di let's rock\n",
      "Listening...\n",
      "You said: Jai Mata Di song superhit superhit\n",
      "Listening...\n",
      "Unable to recognize speech\n",
      "Listening...\n"
     ]
    }
   ],
   "source": [
    "import speech_recognition as sr\n",
    "import pyttsx3\n",
    "\n",
    "# Initialize the speech recognition and text-to-speech engines\n",
    "recognizer = sr.Recognizer()\n",
    "engine = pyttsx3.init()\n",
    "\n",
    "# Function to convert speech to text\n",
    "def listen_to_speech():\n",
    "    with sr.Microphone() as source:\n",
    "        print(\"Listening...\")\n",
    "        audio = recognizer.listen(source)\n",
    "\n",
    "    try:\n",
    "        text = recognizer.recognize_google(audio)\n",
    "        print(\"You said:\", text)\n",
    "        return text\n",
    "    except sr.UnknownValueError:\n",
    "        print(\"Unable to recognize speech\")\n",
    "        return \"\"\n",
    "    except sr.RequestError:\n",
    "        print(\"Speech recognition service unavailable\")\n",
    "        return \"\"\n",
    "\n",
    "# Function to convert text to speech\n",
    "def speak_text(text):\n",
    "    engine.say(text)\n",
    "    engine.runAndWait()\n",
    "\n",
    "# Main program loop\n",
    "while True:\n",
    "    # Listen to speech and convert it to text\n",
    "    speech = listen_to_speech()\n",
    "\n",
    "    # Convert text to speech and play it\n",
    "    speak_text(speech)"
   ]
  },
  {
   "cell_type": "code",
   "execution_count": null,
   "id": "b7ad51a6",
   "metadata": {},
   "outputs": [],
   "source": []
  },
  {
   "cell_type": "code",
   "execution_count": null,
   "id": "0cc5b023",
   "metadata": {},
   "outputs": [],
   "source": []
  },
  {
   "cell_type": "code",
   "execution_count": null,
   "id": "ea7f87e7",
   "metadata": {},
   "outputs": [],
   "source": []
  }
 ],
 "metadata": {
  "kernelspec": {
   "display_name": "Python 3 (ipykernel)",
   "language": "python",
   "name": "python3"
  },
  "language_info": {
   "codemirror_mode": {
    "name": "ipython",
    "version": 3
   },
   "file_extension": ".py",
   "mimetype": "text/x-python",
   "name": "python",
   "nbconvert_exporter": "python",
   "pygments_lexer": "ipython3",
   "version": "3.9.12"
  }
 },
 "nbformat": 4,
 "nbformat_minor": 5
}
