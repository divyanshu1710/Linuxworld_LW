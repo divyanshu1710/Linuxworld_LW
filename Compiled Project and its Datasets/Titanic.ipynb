{
 "cells": [
  {
   "cell_type": "code",
   "execution_count": null,
   "id": "286dd29d",
   "metadata": {},
   "outputs": [],
   "source": [
    "import pandas as pd\n",
    "from sklearn.model_selection import train_test_split\n",
    "from sklearn.preprocessing import LabelEncoder\n",
    "from sklearn.ensemble import RandomForestClassifier\n",
    "from sklearn.metrics import accuracy_score\n",
    "\n",
    "\n",
    "# Step 1: Load the dataset\n",
    "url = 'https://www.kaggle.com/datasets/yasserh/titanic-dataset'\n",
    "df = pd.read_csv('train.csv')\n",
    "\n",
    "# Step 2: Data preprocessing\n",
    "# Drop irrelevant columns\n",
    "df = df.drop(['PassengerId', 'Name', 'Ticket', 'Cabin','Fare',\"Embarked\"], axis=1)\n",
    "\n",
    "# Fill missing values\n",
    "df['Age'].fillna(df['Age'].median(), inplace=True)\n",
    "\n",
    "# Encode categorical variables\n",
    "label_encoder = LabelEncoder()\n",
    "df['Sex'] = label_encoder.fit_transform(df['Sex'])\n",
    "\n",
    "# Split features and target variable\n",
    "X = df.drop('Survived', axis=1)\n",
    "y = df['Survived']\n",
    "\n",
    "# Split the data into training and testing sets\n",
    "X_train, X_test, y_train, y_test = train_test_split(X, y, test_size=0.2, random_state=42)\n",
    "\n",
    "# Step 3: Model training\n",
    "model = RandomForestClassifier(n_estimators=100, random_state=42)\n",
    "model.fit(X_train, y_train)\n",
    "\n",
    "# Step 4: Predict on test set\n",
    "y_pred = model.predict(X_test)\n",
    "\n",
    "# Step 5: Evaluate the model\n",
    "accuracy = accuracy_score(y_test, y_pred)\n",
    "#print(f\"Accuracy: {accuracy}\")\n",
    "Pclass=int(input(\"Enter the Passenger class of the passenger: \\n\"))\n",
    "gender=input(\"Enter the gender of the passenger M for male F for female: \\n\")\n",
    "if gender==\"M\":\n",
    "    s=1\n",
    "elif gender==\"F\":\n",
    "    s=0\n",
    "else:\n",
    "    print(\"Enter valid gender cause LGBTQ is just a disease\")\n",
    "age=float(input(\"Enter the age of passenger: \\n\"))\n",
    "sib=int(input(\"Enter sibling count: \\n\"))\n",
    "pc=int(input(\"Enter the number of children of the passenger: \\n\"))\n",
    "sur=model.predict([[Pclass,s,age,sib,pc]])\n",
    "if sur[0]==1:\n",
    "    print(\"The passenger survived\")\n",
    "else:\n",
    "    print(\"The passenger died\")\n",
    "        "
   ]
  },
  {
   "cell_type": "code",
   "execution_count": null,
   "id": "505ce019",
   "metadata": {},
   "outputs": [],
   "source": []
  }
 ],
 "metadata": {
  "kernelspec": {
   "display_name": "Python 3 (ipykernel)",
   "language": "python",
   "name": "python3"
  },
  "language_info": {
   "codemirror_mode": {
    "name": "ipython",
    "version": 3
   },
   "file_extension": ".py",
   "mimetype": "text/x-python",
   "name": "python",
   "nbconvert_exporter": "python",
   "pygments_lexer": "ipython3",
   "version": "3.9.12"
  }
 },
 "nbformat": 4,
 "nbformat_minor": 5
}
